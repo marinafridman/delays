{
 "cells": [
  {
   "cell_type": "code",
   "execution_count": 1,
   "metadata": {},
   "outputs": [],
   "source": [
    "import json\n",
    "# Import the requests library\n",
    "import requests\n",
    "import pandas as pd\n",
    "import numpy as np"
   ]
  },
  {
   "cell_type": "code",
   "execution_count": 2,
   "metadata": {},
   "outputs": [],
   "source": [
    "# Get info on published articles on biorxiv \n",
    "# documentation at http://api.biorxiv.org/\n",
    "# Base URL\n",
    "base_url = 'https://api.biorxiv.org/pub/'\n",
    "start_date = '2015-01-01'\n",
    "end_date = '2020-11-21'"
   ]
  },
  {
   "cell_type": "code",
   "execution_count": 3,
   "metadata": {},
   "outputs": [],
   "source": [
    "# get first data page\n",
    "curser = 0\n",
    "url = base_url + start_date + '/' + end_date + '/' + str(curser)\n",
    "r = requests.get(url).json()\n",
    "nEntries = r['messages'][0]['total']\n",
    "data = pd.DataFrame(r['collection'])\n",
    "\n",
    "# get subsequent pages\n",
    "for offset in np.arange(100,nEntries+100,100):\n",
    "    url = base_url + start_date + '/' + end_date + '/' + str(offset)\n",
    "    if offset % 1000 == 0:\n",
    "        print(str(offset) + ' out of ' + str(nEntries))\n",
    "    r = requests.get(url).json()\n",
    "    data = pd.concat([data,pd.DataFrame(r['collection'])])"
   ]
  },
  {
   "cell_type": "code",
   "execution_count": 4,
   "metadata": {},
   "outputs": [],
   "source": [
    "# save data\n",
    "data.reset_index(drop=True).to_json('data/biorxiv_published_' + start_date + 'to' + end_date + '.json')"
   ]
  },
  {
   "cell_type": "code",
   "execution_count": null,
   "metadata": {},
   "outputs": [],
   "source": []
  }
 ],
 "metadata": {
  "kernelspec": {
   "display_name": "Python 3",
   "language": "python",
   "name": "python3"
  },
  "language_info": {
   "codemirror_mode": {
    "name": "ipython",
    "version": 3
   },
   "file_extension": ".py",
   "mimetype": "text/x-python",
   "name": "python",
   "nbconvert_exporter": "python",
   "pygments_lexer": "ipython3",
   "version": "3.8.2"
  }
 },
 "nbformat": 4,
 "nbformat_minor": 4
}
